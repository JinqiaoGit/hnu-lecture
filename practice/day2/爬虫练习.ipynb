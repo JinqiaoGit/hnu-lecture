{
 "cells": [
  {
   "cell_type": "markdown",
   "metadata": {},
   "source": [
    "**练习1 抓取搜狗搜索引擎首页源代码**"
   ]
  },
  {
   "cell_type": "code",
   "execution_count": null,
   "metadata": {},
   "outputs": [],
   "source": [
    "from urllib.request import urlopen"
   ]
  },
  {
   "cell_type": "code",
   "execution_count": null,
   "metadata": {},
   "outputs": [],
   "source": [
    "# 使用urlopen包\n",
    "url = \"https://www.sogou.com/\""
   ]
  },
  {
   "cell_type": "markdown",
   "metadata": {},
   "source": [
    "___\n",
    "**练习2 Request GET: 在搜狗引擎中搜索你喜欢歌手的搜索结果，得到搜索结果页面的HTML**"
   ]
  },
  {
   "cell_type": "code",
   "execution_count": null,
   "metadata": {},
   "outputs": [],
   "source": [
    "# code here"
   ]
  },
  {
   "cell_type": "markdown",
   "metadata": {},
   "source": [
    "___\n",
    "**练习3 Request POST: 在百度翻译中找到sug的POST请求，并得到翻译推荐结果**"
   ]
  },
  {
   "cell_type": "code",
   "execution_count": null,
   "metadata": {},
   "outputs": [],
   "source": [
    "# code here"
   ]
  },
  {
   "cell_type": "markdown",
   "metadata": {},
   "source": [
    "___\n",
    "**练习4 参数封装：在豆瓣电影中拿到2021年你最喜欢的电影类型中评分最高的电影以及电影信息**"
   ]
  },
  {
   "cell_type": "code",
   "execution_count": 1,
   "metadata": {},
   "outputs": [],
   "source": [
    "# code here"
   ]
  },
  {
   "cell_type": "markdown",
   "metadata": {},
   "source": [
    "___\n",
    "**练习5 正则表达式**"
   ]
  },
  {
   "cell_type": "code",
   "execution_count": 2,
   "metadata": {},
   "outputs": [],
   "source": [
    "import re"
   ]
  },
  {
   "cell_type": "code",
   "execution_count": 13,
   "metadata": {},
   "outputs": [
    {
     "data": {
      "text/plain": [
       "<re.Match object; span=(0, 3), match='abc'>"
      ]
     },
     "execution_count": 13,
     "metadata": {},
     "output_type": "execute_result"
    }
   ],
   "source": [
    "# 1. 正则表达式能够识别 ['abc', 'a1c', 'a-c', 'a.c', 'a\\'c']，除列表中的元素外，其他都不匹配\n",
    "# code here\n",
    "re.match(r'a[b1\\-.\\']c', 'abc')"
   ]
  },
  {
   "cell_type": "code",
   "execution_count": 4,
   "metadata": {},
   "outputs": [
    {
     "data": {
      "text/plain": [
       "<re.Match object; span=(0, 12), match='Jinqiao Chen'>"
      ]
     },
     "execution_count": 4,
     "metadata": {},
     "output_type": "execute_result"
    }
   ],
   "source": [
    "# 2. 正则表达式同时匹配你的英文名字和你的中文名\n",
    "# code here\n",
    "re.search(r'^([\\u4E00-\\u9FA5]{2,4}|\\w+\\s?\\w*)$', 'Jinqiao Chen')"
   ]
  },
  {
   "cell_type": "code",
   "execution_count": 16,
   "metadata": {},
   "outputs": [
    {
     "data": {
      "text/plain": [
       "<re.Match object; span=(0, 13), match='www.baidu.com'>"
      ]
     },
     "execution_count": 16,
     "metadata": {},
     "output_type": "execute_result"
    }
   ],
   "source": [
    "# 3. 匹配以“www”起始且以“.com”结尾的简单Web域名,如www.baidu.com\n",
    "# code here\n",
    "re.match(r'^www\\..+\\.com$', 'www.baidu.com')"
   ]
  },
  {
   "cell_type": "code",
   "execution_count": 18,
   "metadata": {},
   "outputs": [
    {
     "data": {
      "text/plain": [
       "<re.Match object; span=(0, 6), match='+23.43'>"
      ]
     },
     "execution_count": 18,
     "metadata": {},
     "output_type": "execute_result"
    }
   ],
   "source": [
    "# 4. 匹配所有能够表示Python浮点数的字符串集\n",
    "# code here\n",
    "re.match(r'^[-+]?\\d*\\.\\d*$', '+23.43')"
   ]
  },
  {
   "cell_type": "code",
   "execution_count": 19,
   "metadata": {},
   "outputs": [
    {
     "data": {
      "text/plain": [
       "<re.Match object; span=(0, 19), match='2022-06-27 08:30:21'>"
      ]
     },
     "execution_count": 19,
     "metadata": {},
     "output_type": "execute_result"
    }
   ],
   "source": [
    "# 5. 匹配时间格式如“2022-06-27 08:30:21”中完整的年月日和时间字段\n",
    "# code here\n",
    "re.match(r'\\d{4}-\\d{2}-\\d{2} \\d{2}:\\d{2}:\\d{2}', '2022-06-27 08:30:21')"
   ]
  },
  {
   "cell_type": "code",
   "execution_count": 21,
   "metadata": {},
   "outputs": [],
   "source": [
    "# 6. 去除以下html文件中的标签，只显示文本信息。\n",
    "html = \"\"\"\n",
    "<!DOCTYPE html>\n",
    "<html lang=\"en\">\n",
    "<head>\n",
    "    <meta charset=\"UTF-8\">\n",
    "    <title>Title</title>\n",
    "</head>\n",
    "<body>\n",
    "    <h1>Hello World!</h1>\n",
    "    <p>匹配当前文字</p>\n",
    "    <br>\n",
    "    <p>熟练掌握正则表达式</p>\n",
    "</body>\n",
    "</html>\n",
    "\"\"\""
   ]
  },
  {
   "cell_type": "code",
   "execution_count": 31,
   "metadata": {},
   "outputs": [
    {
     "name": "stdout",
     "output_type": "stream",
     "text": [
      "Title\n",
      "Hello World!\n",
      "匹配当前文字\n",
      "熟练掌握正则表达式\n"
     ]
    }
   ],
   "source": [
    "# code here\n",
    "for match_obj in re.finditer(r'(<h1>(?P<text1>.*?)</h1>|<p>(?P<text2>.*?)</p>|<title>(?P<text3>.*?)</title>)', html):\n",
    "    print([i for i in match_obj.groups()[1:] if i][0])"
   ]
  },
  {
   "cell_type": "code",
   "execution_count": 39,
   "metadata": {},
   "outputs": [
    {
     "data": {
      "text/plain": [
       "<re.Match object; span=(0, 4), match='AAPL'>"
      ]
     },
     "execution_count": 39,
     "metadata": {},
     "output_type": "execute_result"
    }
   ],
   "source": [
    "# 7. 匹配AAPL并限定AAPL后必须跟着BUY\n",
    "# code here\n",
    "re.search(r\"AAPL(?=\\sBUY)\", 'AAPL BUY')"
   ]
  },
  {
   "cell_type": "code",
   "execution_count": 38,
   "metadata": {},
   "outputs": [
    {
     "data": {
      "text/plain": [
       "<re.Match object; span=(0, 4), match='AAPL'>"
      ]
     },
     "execution_count": 38,
     "metadata": {},
     "output_type": "execute_result"
    }
   ],
   "source": [
    "# 8. 匹配AAPL并限定AAPL后不能跟着PUT\n",
    "# code here\n",
    "re.search(r'AAPL(?!\\sPUT)', 'AAPL BUY')"
   ]
  },
  {
   "cell_type": "code",
   "execution_count": 41,
   "metadata": {},
   "outputs": [
    {
     "data": {
      "text/plain": [
       "<re.Match object; span=(5, 8), match='BUY'>"
      ]
     },
     "execution_count": 41,
     "metadata": {},
     "output_type": "execute_result"
    }
   ],
   "source": [
    "# 9. 匹配BUY并限定前面只能是AAPL\n",
    "# code here\n",
    "re.search(r'(?<=AAPL\\s)BUY', 'AAPL BUY')"
   ]
  },
  {
   "cell_type": "code",
   "execution_count": 45,
   "metadata": {},
   "outputs": [
    {
     "data": {
      "text/plain": [
       "<re.Match object; span=(6, 9), match='BUY'>"
      ]
     },
     "execution_count": 45,
     "metadata": {},
     "output_type": "execute_result"
    }
   ],
   "source": [
    "# 10. 匹配BUY并限定前面不能是AAPL\n",
    "# code here\n",
    "re.search(r'(?<!AAPL\\s)BUY', 'AAPL2 BUY')"
   ]
  },
  {
   "cell_type": "markdown",
   "metadata": {},
   "source": [
    "___\n",
    "**练习6 Re模块练习**"
   ]
  },
  {
   "cell_type": "code",
   "execution_count": 46,
   "metadata": {},
   "outputs": [],
   "source": [
    "# code here\n",
    "url = 'https://www.investopedia.com/terms-beginning-with-num-4769350'"
   ]
  },
  {
   "cell_type": "markdown",
   "metadata": {},
   "source": [
    "___\n",
    "**练习7 bs4模块练习**"
   ]
  },
  {
   "cell_type": "code",
   "execution_count": 49,
   "metadata": {},
   "outputs": [],
   "source": [
    "# code here\n",
    "url = 'http://sh.bendibao.com/news/20201214/235319.shtm'"
   ]
  },
  {
   "cell_type": "markdown",
   "metadata": {},
   "source": [
    "___\n",
    "**练习8 Xpath模块练习**"
   ]
  },
  {
   "cell_type": "code",
   "execution_count": 51,
   "metadata": {},
   "outputs": [],
   "source": [
    "# code here\n",
    "# 读取本科学科分类\n",
    "url = \"http://xxgk.hnu.edu.cn/info/1016/5412.htm\""
   ]
  },
  {
   "cell_type": "markdown",
   "metadata": {},
   "source": [
    "___\n",
    "**练习9 Cookie模块练习**"
   ]
  },
  {
   "cell_type": "code",
   "execution_count": 53,
   "metadata": {},
   "outputs": [],
   "source": [
    "# code here\n",
    "url = 'https://finance.pae.baidu.com/selfselect/gethomeinfo?market=&type=&skipLogin=0&finClientType=pc'"
   ]
  },
  {
   "cell_type": "markdown",
   "metadata": {},
   "source": [
    "___\n",
    "**练习10 防盗链练习**"
   ]
  },
  {
   "cell_type": "code",
   "execution_count": null,
   "metadata": {},
   "outputs": [],
   "source": [
    "# code here\n",
    "url = 'https://www.pearvideo.com/videoStatus.jsp?contId=1765875&mrd=0.8863942536644145'"
   ]
  },
  {
   "cell_type": "markdown",
   "metadata": {},
   "source": [
    "___\n",
    "**练习11 协程练习**"
   ]
  },
  {
   "cell_type": "code",
   "execution_count": 55,
   "metadata": {},
   "outputs": [],
   "source": [
    "url = [\n",
    "    \"https://www.investopedia.com/terms-beginning-with-b-4769352\",\n",
    "    \"https://www.investopedia.com/terms-beginning-with-c-4769353\",\n",
    "    \"https://www.investopedia.com/terms-beginning-with-d-4769354\",\n",
    "]"
   ]
  },
  {
   "cell_type": "code",
   "execution_count": null,
   "metadata": {},
   "outputs": [],
   "source": []
  }
 ],
 "metadata": {
  "kernelspec": {
   "display_name": "training",
   "language": "python",
   "name": "training"
  },
  "language_info": {
   "codemirror_mode": {
    "name": "ipython",
    "version": 3
   },
   "file_extension": ".py",
   "mimetype": "text/x-python",
   "name": "python",
   "nbconvert_exporter": "python",
   "pygments_lexer": "ipython3",
   "version": "3.8.13"
  }
 },
 "nbformat": 4,
 "nbformat_minor": 4
}
