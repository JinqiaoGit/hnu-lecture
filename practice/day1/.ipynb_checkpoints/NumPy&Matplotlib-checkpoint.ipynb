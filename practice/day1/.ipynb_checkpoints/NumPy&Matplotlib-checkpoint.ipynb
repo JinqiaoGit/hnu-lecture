{
 "cells": [
  {
   "cell_type": "markdown",
   "metadata": {},
   "source": [
    "## <center>科学计算 - NumPy</center> "
   ]
  },
  {
   "cell_type": "markdown",
   "metadata": {},
   "source": [
    "## 1. NumPy安装"
   ]
  },
  {
   "cell_type": "code",
   "execution_count": 6,
   "metadata": {},
   "outputs": [
    {
     "name": "stdout",
     "output_type": "stream",
     "text": [
      "Looking in indexes: http://mirrors.aliyun.com/pypi/simple/\n",
      "Requirement already satisfied: numpy in c:\\users\\36332\\anaconda3\\lib\\site-packages (1.19.1)\n"
     ]
    }
   ],
   "source": [
    "!pip install numpy"
   ]
  },
  {
   "cell_type": "markdown",
   "metadata": {},
   "source": [
    "## 2. NumPy数组创建"
   ]
  },
  {
   "cell_type": "markdown",
   "metadata": {},
   "source": [
    "**NumPy数组的基础属性**"
   ]
  },
  {
   "cell_type": "code",
   "execution_count": 7,
   "metadata": {},
   "outputs": [
    {
     "name": "stdout",
     "output_type": "stream",
     "text": [
      "[[ 0  1  2  3  4]\n",
      " [ 5  6  7  8  9]\n",
      " [10 11 12 13 14]]\n",
      "(3, 5)\n",
      "2\n",
      "int32\n",
      "4\n",
      "15\n",
      "<class 'numpy.ndarray'>\n"
     ]
    }
   ],
   "source": [
    "import numpy as np\n",
    "\n",
    "a = np.arange(15).reshape(3, 5)\n",
    "print(a)\n",
    "print(a.shape)\n",
    "print(a.ndim)\n",
    "print(a.dtype.name)\n",
    "print(a.itemsize)\n",
    "print(a.size)\n",
    "print(type(a))"
   ]
  },
  {
   "cell_type": "code",
   "execution_count": 8,
   "metadata": {},
   "outputs": [
    {
     "name": "stdout",
     "output_type": "stream",
     "text": [
      "[2 3 4]\n",
      "int32\n",
      "float64\n"
     ]
    }
   ],
   "source": [
    "a = np.array([2,3,4])\n",
    "print(a)\n",
    "print(a.dtype)\n",
    "b = np.array([1.2, 3.5, 5.1])\n",
    "print(b.dtype)"
   ]
  },
  {
   "cell_type": "markdown",
   "metadata": {},
   "source": [
    "**array 可以将序列的序列转换成二维数组，将序列的序列的序列转换成三维数组**"
   ]
  },
  {
   "cell_type": "code",
   "execution_count": 9,
   "metadata": {},
   "outputs": [
    {
     "data": {
      "text/plain": [
       "array([[1.5, 2. , 3. ],\n",
       "       [4. , 5. , 6. ]])"
      ]
     },
     "execution_count": 9,
     "metadata": {},
     "output_type": "execute_result"
    }
   ],
   "source": [
    "np.array([(1.5,2,3), (4,5,6)])"
   ]
  },
  {
   "cell_type": "markdown",
   "metadata": {},
   "source": [
    "**NumPy提供了几个函数来创建具有初始占位符内容的数组**"
   ]
  },
  {
   "cell_type": "code",
   "execution_count": 10,
   "metadata": {},
   "outputs": [
    {
     "name": "stdout",
     "output_type": "stream",
     "text": [
      "[[0. 0. 0. 0.]\n",
      " [0. 0. 0. 0.]\n",
      " [0. 0. 0. 0.]]\n",
      "[[[1 1 1 1]\n",
      "  [1 1 1 1]\n",
      "  [1 1 1 1]]\n",
      "\n",
      " [[1 1 1 1]\n",
      "  [1 1 1 1]\n",
      "  [1 1 1 1]]]\n",
      "[[1.39069238e-309 1.39069238e-309 1.39069238e-309]\n",
      " [1.39069238e-309 1.39069238e-309 1.39069238e-309]]\n"
     ]
    }
   ],
   "source": [
    "print(np.zeros( (3,4) ))\n",
    "print(np.ones( (2,3,4), dtype=np.int16 ))\n",
    "print(np.empty( (2,3) ))"
   ]
  },
  {
   "cell_type": "markdown",
   "metadata": {},
   "source": [
    "**为了创建数字组成的数组，NumPy提供了一个类似于range的函数，该函数返回数组而不是列表**"
   ]
  },
  {
   "cell_type": "code",
   "execution_count": 11,
   "metadata": {},
   "outputs": [
    {
     "name": "stdout",
     "output_type": "stream",
     "text": [
      "[10 15 20 25]\n",
      "[0.  0.3 0.6 0.9 1.2 1.5 1.8]\n"
     ]
    }
   ],
   "source": [
    "print(np.arange( 10, 30, 5 ))\n",
    "print(np.arange( 0, 2, 0.3 ))"
   ]
  },
  {
   "cell_type": "markdown",
   "metadata": {},
   "source": [
    "**当arange与浮点参数一起使用时，由于有限的浮点精度，通常不可能预测所获得的元素的数量。出于这个原因，通常最好使用linspace函数来接收我们想要的元素数量的函数，而不是步长（step)**"
   ]
  },
  {
   "cell_type": "code",
   "execution_count": 12,
   "metadata": {},
   "outputs": [
    {
     "name": "stdout",
     "output_type": "stream",
     "text": [
      "[0.   0.25 0.5  0.75 1.   1.25 1.5  1.75 2.  ]\n",
      "[0.         0.06346652 0.12693304 0.19039955 0.25386607 0.31733259\n",
      " 0.38079911 0.44426563 0.50773215 0.57119866 0.63466518 0.6981317\n",
      " 0.76159822 0.82506474 0.88853126 0.95199777 1.01546429 1.07893081\n",
      " 1.14239733 1.20586385 1.26933037 1.33279688 1.3962634  1.45972992\n",
      " 1.52319644 1.58666296 1.65012947 1.71359599 1.77706251 1.84052903\n",
      " 1.90399555 1.96746207 2.03092858 2.0943951  2.15786162 2.22132814\n",
      " 2.28479466 2.34826118 2.41172769 2.47519421 2.53866073 2.60212725\n",
      " 2.66559377 2.72906028 2.7925268  2.85599332 2.91945984 2.98292636\n",
      " 3.04639288 3.10985939 3.17332591 3.23679243 3.30025895 3.36372547\n",
      " 3.42719199 3.4906585  3.55412502 3.61759154 3.68105806 3.74452458\n",
      " 3.8079911  3.87145761 3.93492413 3.99839065 4.06185717 4.12532369\n",
      " 4.1887902  4.25225672 4.31572324 4.37918976 4.44265628 4.5061228\n",
      " 4.56958931 4.63305583 4.69652235 4.75998887 4.82345539 4.88692191\n",
      " 4.95038842 5.01385494 5.07732146 5.14078798 5.2042545  5.26772102\n",
      " 5.33118753 5.39465405 5.45812057 5.52158709 5.58505361 5.64852012\n",
      " 5.71198664 5.77545316 5.83891968 5.9023862  5.96585272 6.02931923\n",
      " 6.09278575 6.15625227 6.21971879 6.28318531]\n"
     ]
    }
   ],
   "source": [
    "from numpy import pi\n",
    "print(np.linspace( 0, 2, 9 ))\n",
    "x = np.linspace( 0, 2*pi, 100 )\n",
    "print(x)"
   ]
  },
  {
   "cell_type": "markdown",
   "metadata": {},
   "source": [
    "## 3. 打印数组"
   ]
  },
  {
   "cell_type": "code",
   "execution_count": 13,
   "metadata": {},
   "outputs": [
    {
     "name": "stdout",
     "output_type": "stream",
     "text": [
      "1d array:\n",
      "[0 1 2 3 4 5]\n",
      "\n",
      "2d array:\n",
      "[[ 0  1  2]\n",
      " [ 3  4  5]\n",
      " [ 6  7  8]\n",
      " [ 9 10 11]]\n",
      "\n",
      "3d array:\n",
      "[[[ 0  1  2  3]\n",
      "  [ 4  5  6  7]\n",
      "  [ 8  9 10 11]]\n",
      "\n",
      " [[12 13 14 15]\n",
      "  [16 17 18 19]\n",
      "  [20 21 22 23]]]\n"
     ]
    }
   ],
   "source": [
    "a = np.arange(6)\n",
    "print(f'1d array:\\n{a}\\n')\n",
    "b = np.arange(12).reshape(4,3)\n",
    "print(f'2d array:\\n{b}\\n')\n",
    "c = np.arange(24).reshape(2,3,4)\n",
    "print(f'3d array:\\n{c}')"
   ]
  },
  {
   "cell_type": "markdown",
   "metadata": {},
   "source": [
    "**如果数组太大而无法打印，NumPy会自动跳过数组的中心部分并仅打印角点**"
   ]
  },
  {
   "cell_type": "code",
   "execution_count": 14,
   "metadata": {},
   "outputs": [],
   "source": [
    "# 可以使用更改打印选项set_printoptions\n",
    "import sys\n",
    "np.set_printoptions(threshold=sys.maxsize)"
   ]
  },
  {
   "cell_type": "markdown",
   "metadata": {},
   "source": [
    "## 4. 基本操作"
   ]
  },
  {
   "cell_type": "markdown",
   "metadata": {},
   "source": [
    "**数组上的算术运算符会应用到 元素 级别**"
   ]
  },
  {
   "cell_type": "code",
   "execution_count": 15,
   "metadata": {},
   "outputs": [
    {
     "name": "stdout",
     "output_type": "stream",
     "text": [
      "[20 30 40 50]\n",
      "[0 1 2 3]\n",
      "[20 29 38 47]\n",
      "[0 1 4 9]\n",
      "[ 9.12945251 -9.88031624  7.4511316  -2.62374854]\n",
      "[ True  True False False]\n"
     ]
    }
   ],
   "source": [
    "a = np.array( [20,30,40,50] )\n",
    "b = np.arange( 4 )\n",
    "print(a)\n",
    "print(b)\n",
    "c = a-b\n",
    "print(c)\n",
    "print(b**2)\n",
    "print(10*np.sin(a))\n",
    "print(a<35)"
   ]
  },
  {
   "cell_type": "markdown",
   "metadata": {},
   "source": [
    "**矩阵点乘叉乘**"
   ]
  },
  {
   "cell_type": "code",
   "execution_count": 16,
   "metadata": {},
   "outputs": [
    {
     "name": "stdout",
     "output_type": "stream",
     "text": [
      "[[2 0]\n",
      " [0 4]]\n",
      "[[5 4]\n",
      " [3 4]]\n",
      "[[5 4]\n",
      " [3 4]]\n",
      "[[5 4]\n",
      " [3 4]]\n"
     ]
    }
   ],
   "source": [
    "A = np.array( [[1,1], [0,1]] )\n",
    "B = np.array( [[2,0], [3,4]] )\n",
    "# 点乘\n",
    "print(A * B)\n",
    "# 叉乘\n",
    "print(A @ B)\n",
    "print(A.dot(B))\n",
    "print(np.dot(A, B))"
   ]
  },
  {
   "cell_type": "code",
   "execution_count": 17,
   "metadata": {},
   "outputs": [
    {
     "name": "stdout",
     "output_type": "stream",
     "text": [
      "[[3 3 3]\n",
      " [3 3 3]]\n",
      "[[3.54829684 3.41945963 3.32396448]\n",
      " [3.7575142  3.78672158 3.21367709]]\n",
      "[[6.54829684 6.41945963 6.32396448]\n",
      " [6.7575142  6.78672158 6.21367709]]\n"
     ]
    }
   ],
   "source": [
    "a = np.ones((2,3), dtype=int)\n",
    "b = np.random.random((2,3))\n",
    "a *= 3\n",
    "print(a)\n",
    "b += a  # 直接改变矩阵，不创建新的矩阵\n",
    "print(b)\n",
    "a = a.astype(float)\n",
    "a += b  \n",
    "print(a)"
   ]
  },
  {
   "cell_type": "markdown",
   "metadata": {},
   "source": [
    "**当使用不同类型的数组进行操作时，结果数组的类型对应于更一般或更精确的数组**"
   ]
  },
  {
   "cell_type": "code",
   "execution_count": 18,
   "metadata": {},
   "outputs": [
    {
     "name": "stdout",
     "output_type": "stream",
     "text": [
      "float64\n",
      "[1.         2.57079633 4.14159265]\n",
      "float64\n",
      "[ 0.54030231+0.84147098j -0.84147098+0.54030231j -0.54030231-0.84147098j]\n",
      "complex128\n"
     ]
    }
   ],
   "source": [
    "a = np.ones(3, dtype=np.int32)\n",
    "b = np.linspace(0,pi,3)\n",
    "print(b.dtype.name)\n",
    "c = a+b\n",
    "print(c)\n",
    "print(c.dtype.name)\n",
    "d = np.exp(c*1j)\n",
    "print(d)\n",
    "print(d.dtype.name)"
   ]
  },
  {
   "cell_type": "markdown",
   "metadata": {},
   "source": [
    "**ndarray类的方法**"
   ]
  },
  {
   "cell_type": "code",
   "execution_count": 19,
   "metadata": {},
   "outputs": [
    {
     "name": "stdout",
     "output_type": "stream",
     "text": [
      "[[0.38018795 0.69200492 0.25571574]\n",
      " [0.0599742  0.05532496 0.2928615 ]]\n",
      "1.736069256850252\n",
      "0.055324955309188906\n",
      "0.6920049194546134\n"
     ]
    }
   ],
   "source": [
    "a = np.random.random((2,3))\n",
    "print(a)\n",
    "print(a.sum())\n",
    "print(a.min())\n",
    "print(a.max())"
   ]
  },
  {
   "cell_type": "code",
   "execution_count": 20,
   "metadata": {},
   "outputs": [
    {
     "name": "stdout",
     "output_type": "stream",
     "text": [
      "[[ 0  1  2  3]\n",
      " [ 4  5  6  7]\n",
      " [ 8  9 10 11]]\n",
      "[12 15 18 21]\n",
      "[0 4 8]\n",
      "[[ 0  1  3  6]\n",
      " [ 4  9 15 22]\n",
      " [ 8 17 27 38]]\n"
     ]
    }
   ],
   "source": [
    "b = np.arange(12).reshape(3,4)\n",
    "print(b)\n",
    "print(b.sum(axis=0))\n",
    "print(b.min(axis=1))\n",
    "print(b.cumsum(axis=1))"
   ]
  },
  {
   "cell_type": "markdown",
   "metadata": {},
   "source": [
    "**通函数([Find More](https://numpy.org/devdocs/reference/routines.logic.html))**"
   ]
  },
  {
   "cell_type": "code",
   "execution_count": 21,
   "metadata": {},
   "outputs": [
    {
     "name": "stdout",
     "output_type": "stream",
     "text": [
      "[0 1 2]\n",
      "[1.         2.71828183 7.3890561 ]\n",
      "[0.         1.         1.41421356]\n",
      "[2. 0. 6.]\n"
     ]
    }
   ],
   "source": [
    "B = np.arange(3)\n",
    "print(B)\n",
    "print(np.exp(B))\n",
    "print(np.sqrt(B))\n",
    "C = np.array([2., -1., 4.])\n",
    "print(np.add(B, C))"
   ]
  },
  {
   "cell_type": "markdown",
   "metadata": {},
   "source": [
    "## 5. 索引、切片和迭代"
   ]
  },
  {
   "cell_type": "code",
   "execution_count": 22,
   "metadata": {},
   "outputs": [
    {
     "name": "stdout",
     "output_type": "stream",
     "text": [
      "[  0   1   8  27  64 125 216 343 512 729]\n",
      "8\n",
      "[ 64 125 216 343 512]\n",
      "[ -1   1  -1  27  -1 125 216 343 512 729]\n",
      "[729 512 343 216 125  -1  27  -1   1  -1]\n"
     ]
    }
   ],
   "source": [
    "a = np.arange(10)**3\n",
    "print(a)\n",
    "print(a[2])\n",
    "print(a[4:-1])\n",
    "a[:6:2] = -1\n",
    "print(a)\n",
    "print(a[::-1])"
   ]
  },
  {
   "cell_type": "markdown",
   "metadata": {},
   "source": [
    "**多维的数组每个轴可以有一个索引。这些索引以逗号\",\"分隔的元组给出**"
   ]
  },
  {
   "cell_type": "code",
   "execution_count": 23,
   "metadata": {},
   "outputs": [
    {
     "name": "stdout",
     "output_type": "stream",
     "text": [
      "[[0.7594485  0.93835947 0.73223046 0.46398698 0.71097137]\n",
      " [0.78357184 0.16773368 0.60263197 0.19288533 0.78304069]\n",
      " [0.24976886 0.55713883 0.85673678 0.97389186 0.59734148]\n",
      " [0.20709149 0.97398993 0.43645729 0.86249697 0.37946717]]\n",
      "0.9738918642859273\n",
      "[0.93835947 0.16773368 0.55713883 0.97398993]\n",
      "[[0.78357184 0.16773368 0.60263197 0.19288533 0.78304069]\n",
      " [0.24976886 0.55713883 0.85673678 0.97389186 0.59734148]]\n"
     ]
    }
   ],
   "source": [
    "a = np.random.random((4,5))\n",
    "print(a)\n",
    "print(a[2,3])\n",
    "print(a[0:4, 1])\n",
    "print(a[1:3, :])"
   ]
  },
  {
   "cell_type": "markdown",
   "metadata": {},
   "source": [
    "**三个点（ ... ）表示产生完整索引元组所需的冒号**"
   ]
  },
  {
   "cell_type": "markdown",
   "metadata": {},
   "source": [
    "$x[1,2,...] 相当于 x[1,2,:,:,:]$  \n",
    "$x[...,3] 等效于 x[:,:,:,:,3]$   \n",
    "$x[4,...,5,:] 等效于 x[4,:,:,5,:]$  "
   ]
  },
  {
   "cell_type": "markdown",
   "metadata": {},
   "source": [
    "**对多维数组进行 迭代**"
   ]
  },
  {
   "cell_type": "markdown",
   "metadata": {},
   "source": [
    "```shell\n",
    ">>> for row in b:\n",
    "...     print(row)\n",
    "```"
   ]
  },
  {
   "cell_type": "markdown",
   "metadata": {},
   "source": [
    "**如果想要对数组中的每个元素执行操作，可以使用flat属性，该属性是数组的所有元素**"
   ]
  },
  {
   "cell_type": "markdown",
   "metadata": {},
   "source": [
    "```shell\n",
    ">>> for element in b.flat:\n",
    "...     print(element)\n",
    "\n",
    "```"
   ]
  },
  {
   "cell_type": "code",
   "execution_count": 24,
   "metadata": {},
   "outputs": [
    {
     "data": {
      "text/plain": [
       "array([ 1,  1,  9, 64, 25])"
      ]
     },
     "execution_count": 24,
     "metadata": {},
     "output_type": "execute_result"
    }
   ],
   "source": [
    "a = np.arange(12)**2\n",
    "i = np.array( [ 1,1,3,8,5 ] )\n",
    "a[i] "
   ]
  },
  {
   "cell_type": "code",
   "execution_count": 25,
   "metadata": {},
   "outputs": [
    {
     "data": {
      "text/plain": [
       "array([[ 9, 16],\n",
       "       [81, 49]])"
      ]
     },
     "execution_count": 25,
     "metadata": {},
     "output_type": "execute_result"
    }
   ],
   "source": [
    "j = np.array( [ [ 3, 4], [ 9, 7 ] ] )  # the same shape as j\n",
    "a[j]"
   ]
  },
  {
   "cell_type": "code",
   "execution_count": 26,
   "metadata": {},
   "outputs": [
    {
     "name": "stdout",
     "output_type": "stream",
     "text": [
      "[[ 0  1  2  3]\n",
      " [ 4  5  6  7]\n",
      " [ 8  9 10 11]]\n",
      "************\n"
     ]
    },
    {
     "data": {
      "text/plain": [
       "array([[ 2,  5],\n",
       "       [ 7, 11]])"
      ]
     },
     "execution_count": 26,
     "metadata": {},
     "output_type": "execute_result"
    }
   ],
   "source": [
    "a = np.arange(12).reshape(3,4)\n",
    "print(a)\n",
    "print('************')\n",
    "i = np.array( [ [0,1],  [1,2] ] )   # indices for the first dim of a\n",
    "j = np.array( [ [2,1],  [3,3] ] )   # indices for the second dim\n",
    "a[i, j]"
   ]
  },
  {
   "cell_type": "code",
   "execution_count": 27,
   "metadata": {},
   "outputs": [
    {
     "data": {
      "text/plain": [
       "array([[ 2,  6],\n",
       "       [ 6, 10]])"
      ]
     },
     "execution_count": 27,
     "metadata": {},
     "output_type": "execute_result"
    }
   ],
   "source": [
    "a[i, 2]"
   ]
  },
  {
   "cell_type": "code",
   "execution_count": 28,
   "metadata": {},
   "outputs": [
    {
     "data": {
      "text/plain": [
       "array([[[ 2,  1],\n",
       "        [ 3,  3]],\n",
       "\n",
       "       [[ 6,  5],\n",
       "        [ 7,  7]],\n",
       "\n",
       "       [[10,  9],\n",
       "        [11, 11]]])"
      ]
     },
     "execution_count": 28,
     "metadata": {},
     "output_type": "execute_result"
    }
   ],
   "source": [
    "a[:, j]"
   ]
  },
  {
   "cell_type": "markdown",
   "metadata": {},
   "source": [
    "当然，我们可以按顺序（比如列表）放入i，j然后使用列表进行索引。"
   ]
  },
  {
   "cell_type": "code",
   "execution_count": 29,
   "metadata": {},
   "outputs": [
    {
     "data": {
      "text/plain": [
       "array([[ 2,  5],\n",
       "       [ 7, 11]])"
      ]
     },
     "execution_count": 29,
     "metadata": {},
     "output_type": "execute_result"
    }
   ],
   "source": [
    "l = (i,j)\n",
    "a[l]"
   ]
  },
  {
   "cell_type": "markdown",
   "metadata": {},
   "source": [
    "但是，我们不能通过放入i和j放入数组来实现这一点，因为这个数组将被解释为索引a的第一个维度。"
   ]
  },
  {
   "cell_type": "markdown",
   "metadata": {},
   "source": [
    "使用数组索引的另一个常见用法是搜索与时间相关的系列的最大值："
   ]
  },
  {
   "cell_type": "code",
   "execution_count": 30,
   "metadata": {},
   "outputs": [],
   "source": [
    "time = np.linspace(20, 145, 5)\n",
    "data = np.sin(np.arange(20)).reshape(5,4)"
   ]
  },
  {
   "cell_type": "code",
   "execution_count": 31,
   "metadata": {},
   "outputs": [
    {
     "name": "stdout",
     "output_type": "stream",
     "text": [
      "[ 20.    51.25  82.5  113.75 145.  ]\n",
      "[[ 0.          0.84147098  0.90929743  0.14112001]\n",
      " [-0.7568025  -0.95892427 -0.2794155   0.6569866 ]\n",
      " [ 0.98935825  0.41211849 -0.54402111 -0.99999021]\n",
      " [-0.53657292  0.42016704  0.99060736  0.65028784]\n",
      " [-0.28790332 -0.96139749 -0.75098725  0.14987721]]\n"
     ]
    }
   ],
   "source": [
    "print(time)\n",
    "print(data)"
   ]
  },
  {
   "cell_type": "code",
   "execution_count": 32,
   "metadata": {},
   "outputs": [
    {
     "data": {
      "text/plain": [
       "array([2, 0, 3, 1], dtype=int64)"
      ]
     },
     "execution_count": 32,
     "metadata": {},
     "output_type": "execute_result"
    }
   ],
   "source": [
    "index = data.argmax(axis=0)\n",
    "index"
   ]
  },
  {
   "cell_type": "code",
   "execution_count": 33,
   "metadata": {},
   "outputs": [
    {
     "data": {
      "text/plain": [
       "array([ 82.5 ,  20.  , 113.75,  51.25])"
      ]
     },
     "execution_count": 33,
     "metadata": {},
     "output_type": "execute_result"
    }
   ],
   "source": [
    "time[index]"
   ]
  },
  {
   "cell_type": "markdown",
   "metadata": {},
   "source": [
    "您还可以使用数组索引作为分配给的目标"
   ]
  },
  {
   "cell_type": "code",
   "execution_count": 34,
   "metadata": {},
   "outputs": [
    {
     "name": "stdout",
     "output_type": "stream",
     "text": [
      "[0 1 2 3 4]\n"
     ]
    },
    {
     "data": {
      "text/plain": [
       "array([0, 0, 2, 0, 0])"
      ]
     },
     "execution_count": 34,
     "metadata": {},
     "output_type": "execute_result"
    }
   ],
   "source": [
    "a = np.arange(5)\n",
    "print(a)\n",
    "a[[1,3,4]] = 0\n",
    "a"
   ]
  },
  {
   "cell_type": "code",
   "execution_count": 35,
   "metadata": {},
   "outputs": [
    {
     "data": {
      "text/plain": [
       "array([2, 1, 3, 3, 4])"
      ]
     },
     "execution_count": 35,
     "metadata": {},
     "output_type": "execute_result"
    }
   ],
   "source": [
    "# 当索引列表包含重复时，分配会多次完成，留下最后一个值\n",
    "a = np.arange(5)\n",
    "a[[0,0,2]]=[1,2,3]\n",
    "a"
   ]
  },
  {
   "cell_type": "markdown",
   "metadata": {},
   "source": [
    "使用布尔数组进行索引"
   ]
  },
  {
   "cell_type": "code",
   "execution_count": 36,
   "metadata": {},
   "outputs": [
    {
     "name": "stdout",
     "output_type": "stream",
     "text": [
      "[[ 0  1  2  3]\n",
      " [ 4  5  6  7]\n",
      " [ 8  9 10 11]]\n",
      "[[ True  True  True False]\n",
      " [False False False False]\n",
      " [False False False False]]\n"
     ]
    }
   ],
   "source": [
    "a = np.arange(12).reshape(3,4)\n",
    "print(a)\n",
    "b = a < 3\n",
    "print(b)"
   ]
  },
  {
   "cell_type": "code",
   "execution_count": 37,
   "metadata": {},
   "outputs": [
    {
     "data": {
      "text/plain": [
       "array([0, 1, 2])"
      ]
     },
     "execution_count": 37,
     "metadata": {},
     "output_type": "execute_result"
    }
   ],
   "source": [
    "a[b]"
   ]
  },
  {
   "cell_type": "markdown",
   "metadata": {},
   "source": [
    "## 6. 形状操控"
   ]
  },
  {
   "cell_type": "markdown",
   "metadata": {},
   "source": [
    "**可以使用各种命令更改数组的形状。请注意，以下三个命令都返回一个修改后的数组，但不会更改原始数组**"
   ]
  },
  {
   "cell_type": "code",
   "execution_count": 38,
   "metadata": {},
   "outputs": [
    {
     "name": "stdout",
     "output_type": "stream",
     "text": [
      "[[6. 8. 4. 0.]\n",
      " [0. 7. 4. 7.]\n",
      " [3. 4. 6. 3.]]\n",
      "[6. 8. 4. 0. 0. 7. 4. 7. 3. 4. 6. 3.]\n",
      "[[6. 8.]\n",
      " [4. 0.]\n",
      " [0. 7.]\n",
      " [4. 7.]\n",
      " [3. 4.]\n",
      " [6. 3.]]\n",
      "[[6. 0. 3.]\n",
      " [8. 7. 4.]\n",
      " [4. 4. 6.]\n",
      " [0. 7. 3.]]\n"
     ]
    }
   ],
   "source": [
    "a = np.floor(10*np.random.random((3,4)))\n",
    "print(a)\n",
    "# returns the array, flattened\n",
    "print(a.ravel())\n",
    "print(a.reshape(6, -1))\n",
    "print(a.T)"
   ]
  },
  {
   "cell_type": "markdown",
   "metadata": {},
   "source": [
    "**会更改原始数组**"
   ]
  },
  {
   "cell_type": "code",
   "execution_count": 39,
   "metadata": {},
   "outputs": [
    {
     "name": "stdout",
     "output_type": "stream",
     "text": [
      "[[6. 8. 4. 0.]\n",
      " [0. 7. 4. 7.]\n",
      " [3. 4. 6. 3.]]\n",
      "[[6. 8. 4. 0. 0. 7.]\n",
      " [4. 7. 3. 4. 6. 3.]]\n"
     ]
    }
   ],
   "source": [
    "print(a)\n",
    "a.resize((2,6))\n",
    "print(a)"
   ]
  },
  {
   "cell_type": "markdown",
   "metadata": {},
   "source": [
    "## 7. 将不同数组堆叠在一起"
   ]
  },
  {
   "cell_type": "code",
   "execution_count": 40,
   "metadata": {},
   "outputs": [
    {
     "name": "stdout",
     "output_type": "stream",
     "text": [
      "[[[3. 1.]\n",
      "  [9. 7.]\n",
      "  [1. 8.]]\n",
      "\n",
      " [[0. 7.]\n",
      "  [1. 0.]\n",
      "  [3. 9.]]]\n",
      "**********\n",
      "[[[4. 5.]\n",
      "  [0. 6.]\n",
      "  [9. 0.]]\n",
      "\n",
      " [[1. 0.]\n",
      "  [6. 3.]\n",
      "  [2. 1.]]]\n",
      "**********\n",
      "[[[3. 1.]\n",
      "  [9. 7.]\n",
      "  [1. 8.]]\n",
      "\n",
      " [[0. 7.]\n",
      "  [1. 0.]\n",
      "  [3. 9.]]\n",
      "\n",
      " [[4. 5.]\n",
      "  [0. 6.]\n",
      "  [9. 0.]]\n",
      "\n",
      " [[1. 0.]\n",
      "  [6. 3.]\n",
      "  [2. 1.]]]\n",
      "(4, 3, 2)\n",
      "**********\n",
      "[[[3. 1.]\n",
      "  [9. 7.]\n",
      "  [1. 8.]\n",
      "  [4. 5.]\n",
      "  [0. 6.]\n",
      "  [9. 0.]]\n",
      "\n",
      " [[0. 7.]\n",
      "  [1. 0.]\n",
      "  [3. 9.]\n",
      "  [1. 0.]\n",
      "  [6. 3.]\n",
      "  [2. 1.]]]\n",
      "(2, 6, 2)\n"
     ]
    }
   ],
   "source": [
    "a = np.floor(10*np.random.random((2,3,2)))\n",
    "b = np.floor(10*np.random.random((2,3,2)))\n",
    "print(a)\n",
    "print('**********')\n",
    "print(b)\n",
    "print('**********')\n",
    "# vstack沿其第一轴堆叠\n",
    "c = np.vstack((a,b))\n",
    "print(c)\n",
    "print(c.shape)\n",
    "print('**********')\n",
    "# hstack沿其第二轴堆叠\n",
    "d = np.hstack((a,b))\n",
    "print(d)\n",
    "print(d.shape)"
   ]
  },
  {
   "cell_type": "code",
   "execution_count": 41,
   "metadata": {},
   "outputs": [
    {
     "name": "stdout",
     "output_type": "stream",
     "text": [
      "[[[3. 1.]\n",
      "  [9. 7.]\n",
      "  [1. 8.]\n",
      "  [4. 5.]\n",
      "  [0. 6.]\n",
      "  [9. 0.]]\n",
      "\n",
      " [[0. 7.]\n",
      "  [1. 0.]\n",
      "  [3. 9.]\n",
      "  [1. 0.]\n",
      "  [6. 3.]\n",
      "  [2. 1.]]]\n",
      "(2, 6, 2)\n",
      "[[[3. 1.]\n",
      "  [9. 7.]\n",
      "  [1. 8.]]\n",
      "\n",
      " [[0. 7.]\n",
      "  [1. 0.]\n",
      "  [3. 9.]]\n",
      "\n",
      " [[4. 5.]\n",
      "  [0. 6.]\n",
      "  [9. 0.]]\n",
      "\n",
      " [[1. 0.]\n",
      "  [6. 3.]\n",
      "  [2. 1.]]]\n",
      "(4, 3, 2)\n",
      "[[[3. 1. 4. 5.]\n",
      "  [9. 7. 0. 6.]\n",
      "  [1. 8. 9. 0.]]\n",
      "\n",
      " [[0. 7. 1. 0.]\n",
      "  [1. 0. 6. 3.]\n",
      "  [3. 9. 2. 1.]]]\n"
     ]
    }
   ],
   "source": [
    "# column_stack将1D数组作为列堆叠到2D数组中,两个维度以上的数组和hstack一样沿第二轴堆叠\n",
    "e = np.column_stack((a,b))\n",
    "print(e)\n",
    "print(e.shape)\n",
    "# row_stack将1D数组作为行堆叠到2D数组中,两个维度以上的数组和vstack一样沿第一轴堆叠\n",
    "f = np.row_stack((a,b))\n",
    "print(f)\n",
    "print(f.shape)\n",
    "# concatenate允许可选参数给出连接应发生的轴的编号\n",
    "print(np.concatenate((a,b), axis=2))"
   ]
  },
  {
   "cell_type": "markdown",
   "metadata": {},
   "source": [
    "## 8. 将一个数组拆分成几个较小的数组"
   ]
  },
  {
   "cell_type": "code",
   "execution_count": 42,
   "metadata": {
    "scrolled": true
   },
   "outputs": [
    {
     "name": "stdout",
     "output_type": "stream",
     "text": [
      "[[6. 3. 4. 1. 8. 1. 7. 8. 8. 7. 0. 0.]\n",
      " [4. 9. 9. 1. 2. 2. 2. 8. 9. 8. 4. 8.]]\n",
      "********************\n",
      "[array([[6., 3., 4., 1.],\n",
      "       [4., 9., 9., 1.]]), array([[8., 1., 7., 8.],\n",
      "       [2., 2., 2., 8.]]), array([[8., 7., 0., 0.],\n",
      "       [9., 8., 4., 8.]])]\n",
      "********************\n",
      "[array([[6., 3., 4., 1., 8., 1., 7., 8., 8., 7., 0., 0.]]), array([[4., 9., 9., 1., 2., 2., 2., 8., 9., 8., 4., 8.]])]\n"
     ]
    }
   ],
   "source": [
    "a = np.floor(10*np.random.random((2,12)))\n",
    "print(a)\n",
    "print('********************')\n",
    "print(np.hsplit(a,3))\n",
    "print('********************')\n",
    "print(np.vsplit(a,2))"
   ]
  },
  {
   "cell_type": "markdown",
   "metadata": {},
   "source": [
    "## 9. 浅拷贝和深拷贝"
   ]
  },
  {
   "cell_type": "code",
   "execution_count": 43,
   "metadata": {},
   "outputs": [
    {
     "name": "stdout",
     "output_type": "stream",
     "text": [
      "c is a: False\n",
      "c.base is a: True\n",
      "(2, 6)\n",
      "(12,)\n",
      "[ 0  1  2  3  4  5  6  7  8  9 10 -1]\n",
      "[ 0  1  2  3  4  5  6  7  8  9 10 -1]\n",
      "[  0   1   2   3   4   5   6   7   8   9  10 777]\n",
      "[ 0  1  2  3  4  5  6  7  8  9 10 -1]\n"
     ]
    }
   ],
   "source": [
    "a = np.arange(12)\n",
    "c = a.view()\n",
    "print(f'c is a: {c is a}')\n",
    "print(f'c.base is a: {c.base is a}')\n",
    "c.shape = 2, 6\n",
    "print(c.shape)\n",
    "print(a.shape)\n",
    "c[1, 5] = -1\n",
    "print(a)\n",
    "d = a.copy()\n",
    "print(d)\n",
    "d[11] = 777\n",
    "print(d)\n",
    "print(a)"
   ]
  },
  {
   "cell_type": "markdown",
   "metadata": {},
   "source": [
    "## *练习1:*"
   ]
  },
  {
   "cell_type": "markdown",
   "metadata": {},
   "source": [
    "**练习一：**  \n",
    "创建一个$3 \\times 3$并且值从4到12的矩阵"
   ]
  },
  {
   "cell_type": "code",
   "execution_count": 44,
   "metadata": {},
   "outputs": [],
   "source": [
    "# code here\n",
    "data = np.arange(4, 13).reshape(3,3)"
   ]
  },
  {
   "cell_type": "markdown",
   "metadata": {},
   "source": [
    "___\n",
    "**练习二：**  \n",
    "找到数组$[3, 4, 5, 0, 2, 1, 0]$中非0元素的位置索引"
   ]
  },
  {
   "cell_type": "code",
   "execution_count": 45,
   "metadata": {},
   "outputs": [],
   "source": [
    "# code here\n",
    "data = np.array([3,4,5,0,2,1,0])\n",
    "nz = np.nonzero(data)"
   ]
  },
  {
   "cell_type": "markdown",
   "metadata": {},
   "source": [
    "___\n",
    "**练习三：**  \n",
    "创建一个 $10 \\times 10$ 的随机数组并找到它的最大值和最小值"
   ]
  },
  {
   "cell_type": "code",
   "execution_count": 46,
   "metadata": {
    "scrolled": true
   },
   "outputs": [
    {
     "name": "stdout",
     "output_type": "stream",
     "text": [
      "0.9986367228061147\n",
      "0.014013498355576304\n"
     ]
    }
   ],
   "source": [
    "# code here\n",
    "data = np.random.random((10, 10))\n",
    "print(np.max(data))\n",
    "print(np.min(data))"
   ]
  },
  {
   "cell_type": "markdown",
   "metadata": {},
   "source": [
    "___\n",
    "**练习四：**  \n",
    "对于一个已存在数组，添加一个用0填充的边界。\n",
    "from\n",
    "$\\left[\n",
    "\\begin{matrix}\n",
    "1 & 1 & 1\\\\\n",
    "1 & 1 & 1 \\\\\n",
    "1 & 1 & 1\n",
    "\\end{matrix}\n",
    "\\right]\n",
    "$ to \n",
    "$\\left[\n",
    "\\begin{matrix}\n",
    "0 & 0 & 0 & 0 & 0\\\\\n",
    "0 & 1 & 1 & 1 & 0\\\\\n",
    "0 & 1 & 1 & 1 & 0\\\\\n",
    "0 & 1 & 1 & 1 & 0\\\\\n",
    "0 & 0 & 0 & 0 & 0\n",
    "\\end{matrix}\n",
    "\\right]\n",
    "$"
   ]
  },
  {
   "cell_type": "code",
   "execution_count": 47,
   "metadata": {},
   "outputs": [],
   "source": [
    "# code here\n",
    "data = np.ones((3, 3))\n",
    "data = np.pad(data, pad_width=1, mode='constant', constant_values=0)"
   ]
  },
  {
   "cell_type": "markdown",
   "metadata": {},
   "source": [
    "___\n",
    "**练习五：**  \n",
    "对一个 $6 × 6$ 的随机矩阵做归一化"
   ]
  },
  {
   "cell_type": "code",
   "execution_count": 48,
   "metadata": {},
   "outputs": [
    {
     "name": "stdout",
     "output_type": "stream",
     "text": [
      "[[0.09662857 0.56318945 0.82415062 0.19979616 0.26087012 0.47381702]\n",
      " [0.3420066  0.51115125 0.17437714 0.77070049 0.71785149 0.68070835]\n",
      " [0.46206318 0.78495169 0.21879351 0.06560251 0.43710557 0.01278296]\n",
      " [0.72320068 0.45296164 1.         0.29207315 0.92466497 0.78387021]\n",
      " [0.11325319 0.02825484 0.84833325 0.30265808 0.81650855 0.40195086]\n",
      " [0.30185889 0.2408353  0.         0.50895856 0.28038407 0.37784993]]\n"
     ]
    }
   ],
   "source": [
    "# code here\n",
    "data = np.random.random((6, 6))\n",
    "data_max, data_min = data.max(), data.min();\n",
    "data = (data-data_min)/(data_max-data_min);\n",
    "print(data)"
   ]
  },
  {
   "cell_type": "markdown",
   "metadata": {},
   "source": [
    "___\n",
    "**练习六：**  \n",
    "如何在不用copy的情况下计算$((A+B)*(-A / 2))$"
   ]
  },
  {
   "cell_type": "code",
   "execution_count": 49,
   "metadata": {},
   "outputs": [
    {
     "data": {
      "text/plain": [
       "array([-1.5, -1.5, -1.5])"
      ]
     },
     "execution_count": 49,
     "metadata": {},
     "output_type": "execute_result"
    }
   ],
   "source": [
    "# code here\n",
    "A = np.ones(3)*1\n",
    "B = np.ones(3)*2\n",
    "np.add(A,B,out=B)\n",
    "np.divide(A,2,out=A)\n",
    "np.negative(A,out=A)\n",
    "np.multiply(A,B,out=A)"
   ]
  },
  {
   "cell_type": "markdown",
   "metadata": {},
   "source": [
    "___\n",
    "**练习七：** \n",
    "生成$5\\times5$的对角矩阵"
   ]
  },
  {
   "cell_type": "code",
   "execution_count": 50,
   "metadata": {},
   "outputs": [
    {
     "data": {
      "text/plain": [
       "array([[1, 0, 0, 0],\n",
       "       [0, 2, 0, 0],\n",
       "       [0, 0, 3, 0],\n",
       "       [0, 0, 0, 4]])"
      ]
     },
     "execution_count": 50,
     "metadata": {},
     "output_type": "execute_result"
    }
   ],
   "source": [
    "# code here\n",
    "# np.diag(np.arange(1,5), k=-1)\n",
    "np.diag(np.arange(1,5))"
   ]
  },
  {
   "cell_type": "markdown",
   "metadata": {},
   "source": [
    "___\n",
    "**练习八：** \n",
    "对一个小数组进行求和不使用sum并且更快"
   ]
  },
  {
   "cell_type": "code",
   "execution_count": 4,
   "metadata": {},
   "outputs": [],
   "source": [
    "import numpy as np"
   ]
  },
  {
   "cell_type": "code",
   "execution_count": 5,
   "metadata": {},
   "outputs": [
    {
     "data": {
      "text/plain": [
       "45"
      ]
     },
     "execution_count": 5,
     "metadata": {},
     "output_type": "execute_result"
    }
   ],
   "source": [
    "# code here\n",
    "a = np.arange(10)\n",
    "np.add.reduce(a)"
   ]
  },
  {
   "cell_type": "code",
   "execution_count": 7,
   "metadata": {},
   "outputs": [],
   "source": [
    "?np.add.reduce"
   ]
  },
  {
   "cell_type": "markdown",
   "metadata": {},
   "source": [
    "___\n",
    "**练习九：** \n",
    "创建一个大小为10的随机向量并且将该向量中最大的值替换为0"
   ]
  },
  {
   "cell_type": "code",
   "execution_count": 52,
   "metadata": {},
   "outputs": [
    {
     "name": "stdout",
     "output_type": "stream",
     "text": [
      "[0.35532753 0.         0.80773806 0.246107   0.24360711 0.00516917\n",
      " 0.42653928 0.18300214 0.5002851  0.69612995]\n"
     ]
    }
   ],
   "source": [
    "# code here\n",
    "a = np.random.random(10)\n",
    "a[a.argmax()] = 0\n",
    "print (a)"
   ]
  },
  {
   "cell_type": "markdown",
   "metadata": {},
   "source": [
    "___\n",
    "**练习十：** \n",
    "如何在数组a中找到与给定b中标量接近的值"
   ]
  },
  {
   "cell_type": "code",
   "execution_count": 53,
   "metadata": {},
   "outputs": [
    {
     "name": "stdout",
     "output_type": "stream",
     "text": [
      "19\n"
     ]
    }
   ],
   "source": [
    "# code here\n",
    "a = np.arange(100)\n",
    "b = np.random.uniform(0, 100)\n",
    "index = (np.abs(b-a)).argmin()\n",
    "print(a[index])"
   ]
  },
  {
   "cell_type": "markdown",
   "metadata": {},
   "source": [
    "___\n",
    "**课后思考练习 可选做：** \n",
    "NumPy实现神经网络的反向传播"
   ]
  },
  {
   "cell_type": "code",
   "execution_count": 54,
   "metadata": {},
   "outputs": [],
   "source": [
    "# N - batch size;  \n",
    "# D_in - input dimension;\n",
    "# H - hidden dimension; \n",
    "# D_out - output dimension.\n",
    "N, D_in, H, D_out = 16, 512, 32, 10"
   ]
  },
  {
   "cell_type": "code",
   "execution_count": 55,
   "metadata": {},
   "outputs": [],
   "source": [
    "# 创建输入和输出\n",
    "x = np.random.randn(N, D_in)\n",
    "y = np.random.randn(N, D_out)"
   ]
  },
  {
   "cell_type": "code",
   "execution_count": 56,
   "metadata": {},
   "outputs": [],
   "source": [
    "# 随机初始化权重\n",
    "w1 = np.random.randn(D_in, H)\n",
    "b1 = np.zeros((N,H),dtype=float)\n",
    "w2 = np.random.randn(H, D_out)\n",
    "b2 = np.zeros((N,D_out),dtype=float)"
   ]
  },
  {
   "cell_type": "code",
   "execution_count": 57,
   "metadata": {},
   "outputs": [],
   "source": [
    "# 正向传播\n",
    "def forword(input_x):\n",
    "    h = input_x.dot(w1) + b1\n",
    "    h_relu = np.maximum(h, 0)\n",
    "    y_pred = h_relu.dot(w2) + b2\n",
    "    return y_pred\n",
    "\n",
    "def loss(y_pred, y_real):\n",
    "    return np.square(y_pred - y_real).sum()"
   ]
  },
  {
   "cell_type": "code",
   "execution_count": 58,
   "metadata": {},
   "outputs": [],
   "source": [
    "lr = 1e-3\n",
    "def backprop(y_pred, y_real):\n",
    "    # code here\n",
    "    grad_y_pred = 2.0 * (y_pred - y_real)#dz2\n",
    "   \n",
    "    #dw2 = a1.Tdz2 \n",
    "    grad_w2 = h_relu.T.dot(grad_y_pred) \n",
    "    #db2 = dz2\n",
    "    grad_b2 = grad_y_pred               \n",
    "    \n",
    "    #dz1  = dz2w2.T * a1' \n",
    "    grad_h_relu = grad_y_pred.dot(w2.T)    \n",
    "    grad_h = grad_h_relu.copy()\n",
    "    grad_h[h < 0] = 0\n",
    "    \n",
    "    #dw1 = x.Tdz1\n",
    "    grad_w1 = x.T.dot(grad_h) \n",
    "    #db1 = dz1\n",
    "    grad_b1 = grad_h\n",
    "\n",
    "    #更新参数\n",
    "    # Update weights\n",
    "    w1 -= learning_rate * grad_w1\n",
    "    b1 -= learning_rate * grad_b1\n",
    "    w2 -= learning_rate * grad_w2\n",
    "    b2 -= learning_rate * grad_b2"
   ]
  },
  {
   "cell_type": "markdown",
   "metadata": {},
   "source": [
    "___  \n",
    "___"
   ]
  },
  {
   "cell_type": "markdown",
   "metadata": {},
   "source": [
    "## <center>可视化和绘图 - Matplotlib</center> "
   ]
  },
  {
   "cell_type": "code",
   "execution_count": 59,
   "metadata": {},
   "outputs": [
    {
     "name": "stdout",
     "output_type": "stream",
     "text": [
      "Looking in indexes: http://mirrors.aliyun.com/pypi/simple/\n",
      "Requirement already satisfied: matplotlib in c:\\users\\36332\\anaconda3\\lib\\site-packages (3.3.1)\n",
      "Requirement already satisfied: cycler>=0.10 in c:\\users\\36332\\anaconda3\\lib\\site-packages (from matplotlib) (0.10.0)\n",
      "Requirement already satisfied: pyparsing!=2.0.4,!=2.1.2,!=2.1.6,>=2.0.3 in c:\\users\\36332\\anaconda3\\lib\\site-packages (from matplotlib) (2.4.7)\n",
      "Requirement already satisfied: kiwisolver>=1.0.1 in c:\\users\\36332\\anaconda3\\lib\\site-packages (from matplotlib) (1.2.0)\n",
      "Requirement already satisfied: certifi>=2020.06.20 in c:\\users\\36332\\anaconda3\\lib\\site-packages (from matplotlib) (2021.5.30)\n",
      "Requirement already satisfied: numpy>=1.15 in c:\\users\\36332\\anaconda3\\lib\\site-packages (from matplotlib) (1.19.1)\n",
      "Requirement already satisfied: pillow>=6.2.0 in c:\\users\\36332\\anaconda3\\lib\\site-packages (from matplotlib) (7.2.0)\n",
      "Requirement already satisfied: python-dateutil>=2.1 in c:\\users\\36332\\anaconda3\\lib\\site-packages (from matplotlib) (2.8.1)\n",
      "Requirement already satisfied: six in c:\\users\\36332\\anaconda3\\lib\\site-packages (from cycler>=0.10->matplotlib) (1.15.0)\n"
     ]
    }
   ],
   "source": [
    "# matplotlib install\n",
    "!pip install matplotlib"
   ]
  },
  {
   "cell_type": "markdown",
   "metadata": {},
   "source": [
    "<img src=\"./img/Matplotlib_components.png\" width=\"40%\">"
   ]
  },
  {
   "cell_type": "markdown",
   "metadata": {},
   "source": [
    "## 1. 基础用法"
   ]
  },
  {
   "cell_type": "code",
   "execution_count": 1,
   "metadata": {},
   "outputs": [],
   "source": [
    "import matplotlib.pyplot as plt\n",
    "import numpy as np"
   ]
  },
  {
   "cell_type": "code",
   "execution_count": 2,
   "metadata": {},
   "outputs": [
    {
     "data": {
      "image/png": "[encoded data removed]",
      "text/plain": [
       "<Figure size 432x288 with 1 Axes>"
      ]
     },
     "metadata": {
      "needs_background": "light"
     },
     "output_type": "display_data"
    }
   ],
   "source": [
    "fig, ax = plt.subplots()"
   ]
  },
  {
   "cell_type": "code",
   "execution_count": 3,
   "metadata": {},
   "outputs": [
    {
     "name": "stdout",
     "output_type": "stream",
     "text": [
      "<class 'module'> <class 'matplotlib.figure.Figure'> <class 'matplotlib.axes._subplots.AxesSubplot'>\n"
     ]
    }
   ],
   "source": [
    "print(type(plt), type(fig), type(ax))"
   ]
  },
  {
   "cell_type": "markdown",
   "metadata": {},
   "source": [
    "**plt和axes的不同**"
   ]
  },
  {
   "cell_type": "code",
   "execution_count": 4,
   "metadata": {},
   "outputs": [
    {
     "data": {
      "image/png": "[encoded data removed]",
      "text/plain": [
       "<Figure size 864x216 with 3 Axes>"
      ]
     },
     "metadata": {
      "needs_background": "light"
     },
     "output_type": "display_data"
    }
   ],
   "source": [
    "# plt默认在最新的axes上作图，所以只能画在第三个axes上\n",
    "fig, axes = plt.subplots(1, 3, figsize=(12, 3))\n",
    "ax1, ax2, ax3 = axes[:]\n",
    "plt.barh(np.arange(7), np.arange(7))\n",
    "plt.show()"
   ]
  },
  {
   "cell_type": "code",
   "execution_count": 11,
   "metadata": {},
   "outputs": [
    {
     "data": {
      "image/png": "[encoded data removed]",
      "text/plain": [
       "<Figure size 864x216 with 3 Axes>"
      ]
     },
     "metadata": {
      "needs_background": "light"
     },
     "output_type": "display_data"
    }
   ],
   "source": [
    "# axes可以控制具体在哪个子图绘制\n",
    "fig, axes = plt.subplots(1, 3, figsize=(12, 3))\n",
    "ax1, ax2, ax3 = axes[:]\n",
    "plt.barh(np.arange(7), np.arange(7))\n",
    "ax2.plot(np.arange(7), np.arange(7))\n",
    "fig.suptitle('ABC')\n",
    "plt.show()"
   ]
  },
  {
   "cell_type": "code",
   "execution_count": 12,
   "metadata": {},
   "outputs": [],
   "source": [
    "?fig"
   ]
  },
  {
   "cell_type": "markdown",
   "metadata": {},
   "source": [
    "**标题**"
   ]
  },
  {
   "cell_type": "code",
   "execution_count": 6,
   "metadata": {},
   "outputs": [
    {
     "data": {
      "image/png": "[encoded data removed]",
      "text/plain": [
       "<Figure size 150x150 with 1 Axes>"
      ]
     },
     "metadata": {
      "needs_background": "light"
     },
     "output_type": "display_data"
    }
   ],
   "source": [
    "plt.rc('font', family='SimHei')\n",
    "plt.figure(figsize = (3,3), dpi = 50)\n",
    "plt.title(\"Anacomy of a figure\",fontsize = 13,fontweight='heavy')  # 等同于ax.set_title()\n",
    "plt.show()"
   ]
  },
  {
   "cell_type": "markdown",
   "metadata": {},
   "source": [
    "**刻度**"
   ]
  },
  {
   "cell_type": "code",
   "execution_count": 66,
   "metadata": {},
   "outputs": [],
   "source": [
    "from matplotlib.ticker import MultipleLocator, FormatStrFormatter"
   ]
  },
  {
   "cell_type": "code",
   "execution_count": 67,
   "metadata": {},
   "outputs": [
    {
     "data": {
      "image/png": "[encoded data removed]",
      "text/plain": [
       "<Figure size 216x216 with 1 Axes>"
      ]
     },
     "metadata": {
      "needs_background": "light"
     },
     "output_type": "display_data"
    }
   ],
   "source": [
    "fig, axes = plt.subplots(1, 1, figsize=(3, 3))\n",
    "# 设置坐标轴范围\n",
    "axes.set_xlim(0,4)\n",
    "axes.set_ylim(0,4)\n",
    "\n",
    "# 设置主刻度\n",
    "xmajorLocator = MultipleLocator(1)\n",
    "axes.xaxis.set_major_locator(xmajorLocator)\n",
    "\n",
    "ymajorLocator = MultipleLocator(1)\n",
    "axes.yaxis.set_major_locator(ymajorLocator)\n",
    "\n",
    "# 设置副刻度\n",
    "xminorLocator   = MultipleLocator(0.25)\n",
    "axes.xaxis.set_minor_locator(xminorLocator)\n",
    "\n",
    "yminorLocator   = MultipleLocator(0.25)\n",
    "axes.yaxis.set_minor_locator(yminorLocator)\n",
    "\n",
    "# 设置副刻度精度\n",
    "xminorFormatter = FormatStrFormatter('%0.2f')\n",
    "axes.xaxis.set_minor_formatter(xminorFormatter)\n",
    "\n",
    "# 设置主副刻度长度\n",
    "axes.tick_params(which='major',length=8, labelsize=10)\n",
    "axes.tick_params(which='minor',length=4)"
   ]
  },
  {
   "cell_type": "markdown",
   "metadata": {},
   "source": [
    "**网格线**"
   ]
  },
  {
   "cell_type": "code",
   "execution_count": 68,
   "metadata": {},
   "outputs": [],
   "source": [
    "axes.xaxis.grid(True, which='major',linestyle = (0,(8,4))) \n",
    "axes.yaxis.grid(True, which='major',linestyle = (0,(8,4)))"
   ]
  },
  {
   "cell_type": "markdown",
   "metadata": {},
   "source": [
    "**轴文字**"
   ]
  },
  {
   "cell_type": "code",
   "execution_count": 69,
   "metadata": {},
   "outputs": [
    {
     "data": {
      "text/plain": [
       "Text(3.200000000000003, 0.5, 'Y axis label')"
      ]
     },
     "execution_count": 69,
     "metadata": {},
     "output_type": "execute_result"
    }
   ],
   "source": [
    "axes.set_xlabel(\"X axis label\",fontsize = 12)\n",
    "axes.set_ylabel(\"Y axis label\",fontsize = 12)"
   ]
  },
  {
   "cell_type": "code",
   "execution_count": 70,
   "metadata": {},
   "outputs": [
    {
     "data": {
      "text/plain": [
       "Text(2.9, 2.7, 'Gird')"
      ]
     },
     "execution_count": 70,
     "metadata": {},
     "output_type": "execute_result"
    },
    {
     "data": {
      "image/png": "[encoded data removed]",
      "text/plain": [
       "<Figure size 432x432 with 1 Axes>"
      ]
     },
     "metadata": {
      "needs_background": "light"
     },
     "output_type": "display_data"
    }
   ],
   "source": [
    "fig, axes = plt.subplots(1, 1, figsize=(6, 6))\n",
    "\n",
    "# 设置坐标轴范围\n",
    "axes.set_xlim(0,4)\n",
    "axes.set_ylim(0,4)\n",
    "\n",
    "# 设置主刻度\n",
    "xmajorLocator = MultipleLocator(1)\n",
    "axes.xaxis.set_major_locator(xmajorLocator)\n",
    "\n",
    "ymajorLocator = MultipleLocator(1)\n",
    "axes.yaxis.set_major_locator(ymajorLocator)\n",
    "\n",
    "# 设置副刻度\n",
    "xminorLocator = MultipleLocator(0.25)\n",
    "axes.xaxis.set_minor_locator(xminorLocator)\n",
    "\n",
    "yminorLocator = MultipleLocator(0.25)\n",
    "axes.yaxis.set_minor_locator(yminorLocator)\n",
    "\n",
    "# 设置副刻度精度\n",
    "xminorFormatter = FormatStrFormatter('%0.2f')\n",
    "axes.xaxis.set_minor_formatter(xminorFormatter)\n",
    "\n",
    "# 设置主副刻度长度\n",
    "axes.tick_params(which='major',length=8, labelsize=10)\n",
    "axes.tick_params(which='minor',length=4)\n",
    "\n",
    "A = np.random.random(50)*4\n",
    "B = np.random.random(50)*4\n",
    "\n",
    "x = np.arange(0.5,3.3,0.1)\n",
    "y1 = [-0.04658*i**3+0.5494*i**2-1.3151*i + 1.415 for i in x]\n",
    "axes.plot(x, y1, color = 'red',alpha = 0.7, linewidth=2.3, label='red')\n",
    "\n",
    "x = np.arange(0.5,3.5,0.1)\n",
    "y2 = [0.1545*i**3-0.799*i**2+0.4316*i + 3.744 for i in x]\n",
    "axes.plot(x, y2, color = 'blue',alpha = 0.7, linewidth=2.3, label='blue')\n",
    "\n",
    "axes.scatter(A, B,marker = 'o',color=\"w\",edgecolors='black')\n",
    "\n",
    "# 添加右上角图例\n",
    "plt.legend()\n",
    "\n",
    "# 添加文字\n",
    "axes.text(2.9,2.7,\"Gird\",family = \"DejaVu Sans\",fontsize = 11, color = 'blue',weight='heavy')"
   ]
  },
  {
   "cell_type": "markdown",
   "metadata": {},
   "source": [
    "## *练习2:*"
   ]
  },
  {
   "cell_type": "markdown",
   "metadata": {},
   "source": [
    "___  \n",
    "**练习一**  \n",
    "用plot方法画出x=(0,10)间sin的图像"
   ]
  },
  {
   "cell_type": "code",
   "execution_count": 71,
   "metadata": {},
   "outputs": [
    {
     "data": {
      "text/plain": [
       "[<matplotlib.lines.Line2D at 0x2597936af40>]"
      ]
     },
     "execution_count": 71,
     "metadata": {},
     "output_type": "execute_result"
    },
    {
     "name": "stderr",
     "output_type": "stream",
     "text": [
      "C:\\Users\\36332\\Anaconda3\\envs\\training\\lib\\site-packages\\IPython\\core\\pylabtools.py:151: UserWarning: Glyph 8722 (\\N{MINUS SIGN}) missing from current font.\n",
      "  fig.canvas.print_figure(bytes_io, **kw)\n"
     ]
    },
    {
     "data": {
      "image/png": "[encoded data removed]",
      "text/plain": [
       "<Figure size 432x288 with 1 Axes>"
      ]
     },
     "metadata": {
      "needs_background": "light"
     },
     "output_type": "display_data"
    }
   ],
   "source": [
    "# code here\n",
    "x = np.linspace(0, 10, 30)\n",
    "plt.plot(x, np.sin(x))"
   ]
  },
  {
   "cell_type": "markdown",
   "metadata": {},
   "source": [
    "___  \n",
    "**练习二**  \n",
    "用scatter方法画出x=(0,10)间sin的点图像"
   ]
  },
  {
   "cell_type": "code",
   "execution_count": 72,
   "metadata": {},
   "outputs": [
    {
     "data": {
      "text/plain": [
       "<matplotlib.collections.PathCollection at 0x259793e7160>"
      ]
     },
     "execution_count": 72,
     "metadata": {},
     "output_type": "execute_result"
    },
    {
     "data": {
      "image/png": "[encoded data removed]",
      "text/plain": [
       "<Figure size 432x288 with 1 Axes>"
      ]
     },
     "metadata": {
      "needs_background": "light"
     },
     "output_type": "display_data"
    }
   ],
   "source": [
    "# code here\n",
    "plt.scatter(x, np.sin(x))"
   ]
  },
  {
   "cell_type": "markdown",
   "metadata": {},
   "source": [
    "___  \n",
    "**练习三**  \n",
    "用scatter方法画出x=(0,10)间sin的点图像"
   ]
  },
  {
   "cell_type": "code",
   "execution_count": 73,
   "metadata": {
    "scrolled": true
   },
   "outputs": [
    {
     "data": {
      "text/plain": [
       "<matplotlib.collections.PathCollection at 0x2597944c670>"
      ]
     },
     "execution_count": 73,
     "metadata": {},
     "output_type": "execute_result"
    },
    {
     "data": {
      "image/png": "[encoded data removed]",
      "text/plain": [
       "<Figure size 432x288 with 1 Axes>"
      ]
     },
     "metadata": {
      "needs_background": "light"
     },
     "output_type": "display_data"
    }
   ],
   "source": [
    "plt.scatter(x, np.sin(x))"
   ]
  },
  {
   "cell_type": "markdown",
   "metadata": {},
   "source": [
    "___  \n",
    "**练习四**  \n",
    "绘制20随机值的直方图"
   ]
  },
  {
   "cell_type": "code",
   "execution_count": 74,
   "metadata": {},
   "outputs": [
    {
     "data": {
      "text/plain": [
       "(array([1., 0., 0., 6., 3., 3., 1., 4., 1., 1.]),\n",
       " array([-2.34757437, -1.96672509, -1.58587581, -1.20502652, -0.82417724,\n",
       "        -0.44332796, -0.06247868,  0.31837061,  0.69921989,  1.08006917,\n",
       "         1.46091845]),\n",
       " <BarContainer object of 10 artists>)"
      ]
     },
     "execution_count": 74,
     "metadata": {},
     "output_type": "execute_result"
    },
    {
     "data": {
      "image/png": "[encoded data removed]",
      "text/plain": [
       "<Figure size 432x288 with 1 Axes>"
      ]
     },
     "metadata": {
      "needs_background": "light"
     },
     "output_type": "display_data"
    }
   ],
   "source": [
    "data = np.random.randn(20)\n",
    "plt.hist(data)"
   ]
  },
  {
   "cell_type": "markdown",
   "metadata": {},
   "source": [
    "___  \n",
    "**练习五**  \n",
    "在一张图里绘制sin,cos的图形，并展示图例"
   ]
  },
  {
   "cell_type": "code",
   "execution_count": 75,
   "metadata": {},
   "outputs": [
    {
     "data": {
      "text/plain": [
       "<matplotlib.legend.Legend at 0x259790afbb0>"
      ]
     },
     "execution_count": 75,
     "metadata": {},
     "output_type": "execute_result"
    },
    {
     "data": {
      "image/png": "[encoded data removed]",
      "text/plain": [
       "<Figure size 432x288 with 1 Axes>"
      ]
     },
     "metadata": {
      "needs_background": "light"
     },
     "output_type": "display_data"
    }
   ],
   "source": [
    "x = np.linspace(0, 10, 1000)\n",
    "fig, ax = plt.subplots()\n",
    "\n",
    "ax.plot(x, np.sin(x), label='sin')\n",
    "ax.plot(x, np.cos(x), '--', label='cos')\n",
    "ax.legend()"
   ]
  },
  {
   "cell_type": "markdown",
   "metadata": {},
   "source": [
    "**练习六 选做题**  \n",
    "绘制练习一中选做题中的损失函数图"
   ]
  },
  {
   "cell_type": "code",
   "execution_count": null,
   "metadata": {},
   "outputs": [],
   "source": []
  },
  {
   "cell_type": "code",
   "execution_count": null,
   "metadata": {},
   "outputs": [],
   "source": []
  },
  {
   "cell_type": "code",
   "execution_count": null,
   "metadata": {},
   "outputs": [],
   "source": []
  },
  {
   "cell_type": "code",
   "execution_count": null,
   "metadata": {},
   "outputs": [],
   "source": []
  },
  {
   "cell_type": "code",
   "execution_count": null,
   "metadata": {},
   "outputs": [],
   "source": []
  },
  {
   "cell_type": "code",
   "execution_count": null,
   "metadata": {},
   "outputs": [],
   "source": []
  },
  {
   "cell_type": "code",
   "execution_count": null,
   "metadata": {},
   "outputs": [],
   "source": []
  }
 ],
 "metadata": {
  "kernelspec": {
   "display_name": "training",
   "language": "python",
   "name": "training"
  },
  "language_info": {
   "codemirror_mode": {
    "name": "ipython",
    "version": 3
   },
   "file_extension": ".py",
   "mimetype": "text/x-python",
   "name": "python",
   "nbconvert_exporter": "python",
   "pygments_lexer": "ipython3",
   "version": "3.8.13"
  }
 },
 "nbformat": 4,
 "nbformat_minor": 5
}
